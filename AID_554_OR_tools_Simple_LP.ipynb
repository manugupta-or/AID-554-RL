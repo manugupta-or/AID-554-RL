{
  "nbformat": 4,
  "nbformat_minor": 0,
  "metadata": {
    "colab": {
      "name": "AID_554_OR_tools_Simple_LP.ipynb",
      "provenance": [],
      "authorship_tag": "ABX9TyPEim8vtfhX4vZYUGLewpeM",
      "include_colab_link": true
    },
    "kernelspec": {
      "name": "python3",
      "display_name": "Python 3"
    },
    "language_info": {
      "name": "python"
    }
  },
  "cells": [
    {
      "cell_type": "markdown",
      "metadata": {
        "id": "view-in-github",
        "colab_type": "text"
      },
      "source": [
        "<a href=\"https://colab.research.google.com/github/manugupta-or/AID-554-RL/blob/main/AID_554_OR_tools_Simple_LP.ipynb\" target=\"_parent\"><img src=\"https://colab.research.google.com/assets/colab-badge.svg\" alt=\"Open In Colab\"/></a>"
      ]
    },
    {
      "cell_type": "code",
      "execution_count": null,
      "metadata": {
        "id": "Voxghr9ojpEU",
        "colab": {
          "base_uri": "https://localhost:8080/"
        },
        "outputId": "2f889c82-c06e-4cc7-db2f-05492b2418fb"
      },
      "outputs": [
        {
          "output_type": "stream",
          "name": "stdout",
          "text": [
            "Requirement already satisfied: ortools in /usr/local/lib/python3.7/dist-packages (9.2.9972)\n",
            "Requirement already satisfied: protobuf>=3.19.1 in /usr/local/lib/python3.7/dist-packages (from ortools) (3.19.4)\n",
            "Requirement already satisfied: absl-py>=0.13 in /usr/local/lib/python3.7/dist-packages (from ortools) (1.0.0)\n",
            "Requirement already satisfied: numpy>=1.13.3 in /usr/local/lib/python3.7/dist-packages (from ortools) (1.21.5)\n",
            "Requirement already satisfied: six in /usr/local/lib/python3.7/dist-packages (from absl-py>=0.13->ortools) (1.15.0)\n"
          ]
        }
      ],
      "source": [
        "!pip install ortools"
      ]
    },
    {
      "cell_type": "code",
      "source": [
        "from ortools.linear_solver import pywraplp\n",
        "\n",
        "# Create the linear solver with the GLOP backend.\n",
        "solver = pywraplp.Solver.CreateSolver('glop')\n",
        "\n",
        "# Create the variables x and y.\n",
        "x = solver.NumVar(0, 50, 'x')\n",
        "y = solver.NumVar(0, solver.infinity(), 'y')\n",
        "\n",
        "print('Number of variables =', solver.NumVariables())\n",
        "\n",
        "#Adding constraints\n",
        "solver.Add(x+2*y<=1.5)\n",
        "solver.Add(2*x-y<=10)\n",
        "\n",
        "#Adding Objective\n",
        "solver.Maximize(3*x+4*y)\n",
        "\n",
        "#Calling solver\n",
        "results = solver.Solve()\n",
        "\n",
        "#To check if the optimal is found\n",
        "if results == pywraplp.Solver.OPTIMAL:\n",
        "        print('Objective value =', solver.Objective().Value())\n",
        "        print()\n",
        "        print('x:', x.solution_value())\n",
        "        print('y:', y.solution_value())\n",
        "        print('Problem solved in %f milliseconds' % solver.wall_time())\n",
        "else:\n",
        "        print('The problem does not have an optimal solution.')\n"
      ],
      "metadata": {
        "id": "uGuoLAOPjvKh",
        "colab": {
          "base_uri": "https://localhost:8080/"
        },
        "outputId": "e62dee53-3902-472b-831f-6cbe02071a95"
      },
      "execution_count": null,
      "outputs": [
        {
          "output_type": "stream",
          "name": "stdout",
          "text": [
            "Number of variables = 2\n",
            "Objective value = 4.5\n",
            "\n",
            "x: 1.5\n",
            "y: 0.0\n",
            "Problem solved in 3.000000 milliseconds\n"
          ]
        }
      ]
    }
  ]
}